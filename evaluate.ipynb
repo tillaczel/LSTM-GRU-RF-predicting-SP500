{
 "cells": [
  {
   "cell_type": "code",
   "execution_count": 1,
   "metadata": {},
   "outputs": [],
   "source": [
    "# Import libraries\n",
    "import numpy as np\n",
    "import matplotlib.pyplot as plt\n",
    "import time\n",
    "\n",
    "from train_models import *\n",
    "from evaluate_models import *\n",
    "from manipulate_data import *"
   ]
  },
  {
   "cell_type": "code",
   "execution_count": 2,
   "metadata": {},
   "outputs": [
    {
     "name": "stdout",
     "output_type": "stream",
     "text": [
      "Frequency: D\n",
      "Frequency: 60min\n",
      "Frequency: 15min\n",
      "Frequency: 5min\n",
      "Frequency: min\n"
     ]
    }
   ],
   "source": [
    "model_names = ['ARMA', 'LSTM', 'GRU']\n",
    "\n",
    "frequencies = ['D', '60min', '15min', '5min', 'min']\n",
    "frequencies_number_of_samples = np.multiply([1, 7, 26, 78, 390], 252)\n",
    "\n",
    "predictions, returns, dates, number_of_study_periods, study_periods = \\\n",
    "            append_periods(model_names, frequencies, frequencies_number_of_samples)"
   ]
  },
  {
   "cell_type": "code",
   "execution_count": null,
   "metadata": {
    "scrolled": false
   },
   "outputs": [],
   "source": [
    "mse, directional_accuracy = calculate_da_mse(model_names, frequencies, number_of_study_periods, study_periods)"
   ]
  },
  {
   "cell_type": "code",
   "execution_count": null,
   "metadata": {
    "scrolled": false
   },
   "outputs": [],
   "source": [
    "transaction_cost = 0\n",
    "trading_strategy = calculate_trading_strategy(predictions, transaction_cost)\n",
    "logr = create_logr(trading_strategy, returns, transaction_cost)\n",
    "vis_cum_logr(logr, returns, trading_strategy, frequencies, dates, number_of_study_periods, transaction_cost)\n",
    "shapre_ratios = create_shapre_ratio(logr, returns)"
   ]
  },
  {
   "cell_type": "code",
   "execution_count": null,
   "metadata": {
    "scrolled": false
   },
   "outputs": [],
   "source": [
    "transaction_cost = 0.0005\n",
    "trading_strategy = calculate_trading_strategy(predictions, transaction_cost)\n",
    "logr = create_logr(trading_strategy, returns, transaction_cost)\n",
    "vis_cum_logr(logr, returns, trading_strategy, frequencies, dates, number_of_study_periods, transaction_cost)\n",
    "shapre_ratios = create_shapre_ratio(logr, returns)"
   ]
  }
 ],
 "metadata": {
  "kernelspec": {
   "display_name": "Python 3",
   "language": "python",
   "name": "python3"
  },
  "language_info": {
   "codemirror_mode": {
    "name": "ipython",
    "version": 3
   },
   "file_extension": ".py",
   "mimetype": "text/x-python",
   "name": "python",
   "nbconvert_exporter": "python",
   "pygments_lexer": "ipython3",
   "version": "3.7.0"
  }
 },
 "nbformat": 4,
 "nbformat_minor": 2
}
