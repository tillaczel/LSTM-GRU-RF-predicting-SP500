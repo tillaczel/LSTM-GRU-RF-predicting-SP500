{
 "cells": [
  {
   "cell_type": "code",
   "execution_count": 5,
   "metadata": {},
   "outputs": [],
   "source": [
    "# Import libraries\n",
    "import numpy as np\n",
    "import matplotlib.pyplot as plt\n",
    "import time\n",
    "\n",
    "from train_models import *\n",
    "from evaluate_models import *\n",
    "from manipulate_data import *"
   ]
  },
  {
   "cell_type": "code",
   "execution_count": null,
   "metadata": {},
   "outputs": [
    {
     "name": "stdout",
     "output_type": "stream",
     "text": [
      "Frequency: D\n"
     ]
    }
   ],
   "source": [
    "model_names = ['ARMA', 'LSTM', 'GRU']\n",
    "\n",
    "frequencies = ['D', '60min', '15min', '5min', 'min']\n",
    "frequencies_number_of_samples = np.multiply([1, 7, 26, 78, 390], 252)\n",
    "\n",
    "predictions, returns, dates, number_of_study_periods, study_periods = \\\n",
    "            append_periods(model_names, frequencies, frequencies_number_of_samples)"
   ]
  },
  {
   "cell_type": "code",
   "execution_count": null,
   "metadata": {
    "scrolled": false
   },
   "outputs": [],
   "source": [
    "mse, directional_accuracy = calculate_da_mse(model_names, frequencies, number_of_study_periods, study_periods)"
   ]
  },
  {
   "cell_type": "code",
   "execution_count": null,
   "metadata": {
    "scrolled": true
   },
   "outputs": [],
   "source": [
    "transaction_cost = 0\n",
    "trading_strategy = calculate_trading_strategy(predictions, transaction_cost)\n",
    "cum_logr = create_cum_logr(trading_strategy, returns, transaction_cost)\n",
    "vis_cum_logr(cum_logr, returns, trading_strategy, frequencies, dates, number_of_study_periods)\n",
    "shapre_ratios = create_shapre_ratio(cum_logr, returns)"
   ]
  },
  {
   "cell_type": "code",
   "execution_count": null,
   "metadata": {},
   "outputs": [],
   "source": [
    "transaction_cost = 0.0005\n",
    "trading_strategy = calculate_trading_strategy(predictions, transaction_cost)\n",
    "cum_logr = create_cum_logr(trading_strategy, returns, transaction_cost)\n",
    "vis_cum_logr(cum_logr, returns, trading_strategy, frequencies, dates, number_of_study_periods)\n",
    "shapre_ratios = create_shapre_ratio(cum_logr, returns)"
   ]
  },
  {
   "cell_type": "code",
   "execution_count": null,
   "metadata": {},
   "outputs": [],
   "source": []
  },
  {
   "cell_type": "code",
   "execution_count": null,
   "metadata": {},
   "outputs": [],
   "source": [
    "import statsmodels.api as sm\n",
    "i = 7\n",
    "fig = plt.figure(figsize=(12,8))\n",
    "ax1 = fig.add_subplot(211)\n",
    "fig = sm.graphics.tsa.plot_acf(study_periods[0,i], lags=40, ax=ax1) # \n",
    "ax2 = fig.add_subplot(212)\n",
    "fig = sm.graphics.tsa.plot_pacf(study_periods[0,i], lags=40, ax=ax2)# , lags=40"
   ]
  }
 ],
 "metadata": {
  "kernelspec": {
   "display_name": "Python 3",
   "language": "python",
   "name": "python3"
  }
 },
 "nbformat": 4,
 "nbformat_minor": 2
}
