{
 "cells": [
  {
   "cell_type": "code",
   "execution_count": 6,
   "metadata": {},
   "outputs": [],
   "source": [
    "import pandas as pd\n",
    "import numpy as np\n",
    "\n",
    "from libary import *"
   ]
  },
  {
   "cell_type": "code",
   "execution_count": 2,
   "metadata": {},
   "outputs": [],
   "source": [
    "frequencies = ['min','5min','15min','60min','D']\n",
    "frequencies_number_of_samples = np.multiply([390,78,26,7,1],252)\n",
    "model_names = ['ARMA', 'LSTM', 'GRU']"
   ]
  },
  {
   "cell_type": "code",
   "execution_count": 3,
   "metadata": {},
   "outputs": [],
   "source": [
    "dataset = list()\n",
    "for frequency_index in range(5):\n",
    "    dataset_freq = list()\n",
    "    for model_index in range(3):\n",
    "        dataset_model = list()\n",
    "        dataset_model.append(pd.read_csv('results/'+str(model_names[model_index])+'_names_frequency_'\\\n",
    "                                         +str(frequencies[frequency_index])+'.csv').values)\n",
    "        dataset_model.append(pd.read_csv('results/'+str(model_names[model_index])+'_mse_frequency_'\\\n",
    "                                         +str(frequencies[frequency_index])+'.csv').values)\n",
    "        dataset_model.append(pd.read_csv('results/'+str(model_names[model_index])+'_predictions_frequency_'\\\n",
    "                                         +str(frequencies[frequency_index])+'.csv').values)\n",
    "        dataset_freq.append(dataset_model)\n",
    "    dataset.append(dataset_freq)"
   ]
  },
  {
   "cell_type": "code",
   "execution_count": 12,
   "metadata": {
    "scrolled": false
   },
   "outputs": [
    {
     "name": "stdout",
     "output_type": "stream",
     "text": [
      "Frequency: min\n",
      "ARMA\n",
      "LSTM\n"
     ]
    },
    {
     "ename": "ValueError",
     "evalue": "could not broadcast input array from shape (8,49130) into shape (8,196560)",
     "output_type": "error",
     "traceback": [
      "\u001b[1;31m---------------------------------------------------------------------------\u001b[0m",
      "\u001b[1;31mValueError\u001b[0m                                Traceback (most recent call last)",
      "\u001b[1;32m<ipython-input-12-7e285c159d12>\u001b[0m in \u001b[0;36m<module>\u001b[1;34m\u001b[0m\n\u001b[0;32m     13\u001b[0m         \u001b[0mprint\u001b[0m\u001b[1;33m(\u001b[0m\u001b[0mmodel_names\u001b[0m\u001b[1;33m[\u001b[0m\u001b[0mmodel_index\u001b[0m\u001b[1;33m]\u001b[0m\u001b[1;33m)\u001b[0m\u001b[1;33m\u001b[0m\u001b[0m\n\u001b[0;32m     14\u001b[0m         predictions[model_index] = pd.read_csv('results/'+str(model_names[model_index])+'_predictions_frequency_'\\\n\u001b[1;32m---> 15\u001b[1;33m                                          +str(frequencies[frequency_index])+'.csv', header=None).dropna(axis='columns').values\n\u001b[0m\u001b[0;32m     16\u001b[0m \u001b[0mprint\u001b[0m\u001b[1;33m(\u001b[0m\u001b[0mpredictions\u001b[0m\u001b[1;33m)\u001b[0m\u001b[1;33m\u001b[0m\u001b[0m\n",
      "\u001b[1;31mValueError\u001b[0m: could not broadcast input array from shape (8,49130) into shape (8,196560)"
     ]
    }
   ],
   "source": [
    "for frequency_index in range(5):\n",
    "    print(f'Frequency: {frequencies[frequency_index]}')\n",
    "    number_of_study_periods, study_periods, Data, dates = creating_study_periods(frequencies,\\\n",
    "                                                                                 frequencies_number_of_samples,\\\n",
    "                                                                                 frequency_index)\n",
    "    study_periods_direction = study_periods[0]\n",
    "    study_periods_direction[0<study_periods_direction] = 1\n",
    "    study_periods_direction[0==study_periods_direction] = 0\n",
    "    study_periods_direction[0>study_periods_direction] = -1\n",
    "    \n",
    "    train_size = np.round(np.size(reshaped_y, 0) * train_ratio).astype(int)\n",
    "    valid_size = np.round(np.size(reshaped_y, 0) * valid_ratio).astype(int)\n",
    "    test_size = (np.size(reshaped_y, 0) - train_size - valid_size).astype(int)\n",
    "    \n",
    "    predictions = np.zeros((3,number_of_study_periods,test_size))\n",
    "    for model_index in range(3):\n",
    "        print(model_names[model_index])\n",
    "        predictions[model_index] = pd.read_csv('results/'+str(model_names[model_index])+'_predictions_frequency_'\\\n",
    "                                         +str(frequencies[frequency_index])+'.csv', header=None).dropna(axis='columns').values\n",
    "print(predictions)"
   ]
  }
 ],
 "metadata": {
  "kernelspec": {
   "display_name": "Python 3",
   "language": "python",
   "name": "python3"
  },
  "language_info": {
   "codemirror_mode": {
    "name": "ipython",
    "version": 3
   },
   "file_extension": ".py",
   "mimetype": "text/x-python",
   "name": "python",
   "nbconvert_exporter": "python",
   "pygments_lexer": "ipython3",
   "version": "3.7.0"
  }
 },
 "nbformat": 4,
 "nbformat_minor": 2
}
