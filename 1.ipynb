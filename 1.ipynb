{
 "cells": [
  {
   "cell_type": "code",
   "execution_count": 1,
   "metadata": {},
   "outputs": [],
   "source": [
    "# Import libraries\n",
    "import pandas as pd\n",
    "import numpy as np\n",
    "import matplotlib.pyplot as plt\n",
    "import time\n",
    "\n",
    "from libary import *\n",
    "from recurrent import *\n",
    "from ARMA import *"
   ]
  },
  {
   "cell_type": "code",
   "execution_count": 2,
   "metadata": {},
   "outputs": [],
   "source": [
    "# Used data\n",
    "num_of_features = 2\n",
    "\n",
    "train_ratio = 0.5\n",
    "valid_ratio = 0.25"
   ]
  },
  {
   "cell_type": "code",
   "execution_count": 3,
   "metadata": {
    "scrolled": false
   },
   "outputs": [],
   "source": [
    "# Import data\n",
    "Data = pd.read_csv('Data_1min.csv', dtype=str)\n",
    "\n",
    "# Select frequency\n",
    "frequencies = ['min','5min','15min','60min','D']\n",
    "frequencies_number_of_samples = np.multiply([390,78,26,6,1],252)\n",
    "frequency_index = 4\n",
    "Data = resample_data(Data,frequencies[frequency_index])\n",
    "\n",
    "# Create datasets\n",
    "dates = Data['Date']\n",
    "Data.drop('Date', inplace=True, axis=1)\n",
    "\n",
    "Data = Data.astype('float64')\n",
    "prices = Data\n",
    "\n",
    "# Log return\n",
    "Returns = log_return(Data).to_numpy()\n",
    "\n",
    "# Visualize data\n",
    "#visualise_data(Data, Returns)\n",
    "\n",
    "# Create study peridos\n",
    "number_of_study_periods = np.floor(Returns.shape[0]/frequencies_number_of_samples[frequency_index]).astype(int)-1\n",
    "study_periods = np.zeros((2,number_of_study_periods, frequencies_number_of_samples[frequency_index]*2))\n",
    "for i in range(number_of_study_periods):\n",
    "    study_periods[0,i] = Returns[i*frequencies_number_of_samples[frequency_index]:\\\n",
    "                                    (i+2)*frequencies_number_of_samples[frequency_index]].flatten()\n",
    "#     plt.plot(study_periods[0,i])\n",
    "#     plt.show()\n",
    "    study_periods[1,i] = dates.iloc[i*frequencies_number_of_samples[frequency_index]:\\\n",
    "                                    (i+2)*frequencies_number_of_samples[frequency_index]].to_numpy().flatten()"
   ]
  },
  {
   "cell_type": "code",
   "execution_count": 4,
   "metadata": {
    "scrolled": false
   },
   "outputs": [
    {
     "name": "stdout",
     "output_type": "stream",
     "text": [
      "LSTM\n",
      "Period: 0\n",
      "look_back-11, n_epochs-1000, batch_size-512, optimizer-rmsprop, layers-[12], dropout-0.267 0.00030609792581589066\n",
      "look_back-27, n_epochs-1000, batch_size-512, optimizer-adam, layers-[20, 18], dropout-0.133 0.00030855336830711315\n",
      "Period: 1\n",
      "look_back-2, n_epochs-1000, batch_size-1024, optimizer-rmsprop, layers-[15, 7], dropout-0.0 0.0001277477155665567\n",
      "look_back-26, n_epochs-1000, batch_size-1024, optimizer-rmsprop, layers-[4, 3], dropout-0.067 0.00013710059671030142\n",
      "Period: 2\n",
      "look_back-9, n_epochs-1000, batch_size-1024, optimizer-sgd, layers-[19], dropout-0.133 5.965648608011327e-05\n",
      "look_back-6, n_epochs-1000, batch_size-1024, optimizer-adam, layers-[2], dropout-0.6 6.419221572847959e-05\n",
      "Period: 3\n",
      "look_back-3, n_epochs-1000, batch_size-512, optimizer-sgd, layers-[16], dropout-0.0 6.375345118175635e-05\n",
      "look_back-32, n_epochs-1000, batch_size-512, optimizer-rmsprop, layers-[9], dropout-0.0 8.404576887531086e-05\n",
      "Period: 4\n",
      "look_back-36, n_epochs-1000, batch_size-256, optimizer-sgd, layers-[3], dropout-0.467 6.062203028189143e-05\n",
      "look_back-30, n_epochs-1000, batch_size-256, optimizer-adam, layers-[2], dropout-0.6 5.118299611387676e-05\n",
      "Period: 5\n",
      "look_back-26, n_epochs-1000, batch_size-256, optimizer-sgd, layers-[1, 1], dropout-0.0 3.210489791441566e-05\n",
      "look_back-9, n_epochs-1000, batch_size-256, optimizer-adam, layers-[15], dropout-0.133 4.0422792916957e-05\n",
      "Period: 6\n",
      "look_back-20, n_epochs-1000, batch_size-256, optimizer-adam, layers-[13], dropout-0.533 3.04502337201272e-05\n",
      "look_back-30, n_epochs-1000, batch_size-512, optimizer-sgd, layers-[2, 1], dropout-0.2 3.434816523113447e-05\n",
      "Period: 7\n",
      "look_back-17, n_epochs-1000, batch_size-1024, optimizer-sgd, layers-[4, 2], dropout-0.533 6.385759232498257e-05\n",
      "look_back-10, n_epochs-1000, batch_size-512, optimizer-adam, layers-[5, 3], dropout-0.267 8.931294376499152e-05\n",
      "GRU\n",
      "Period: 0\n",
      "look_back-2, n_epochs-1000, batch_size-1024, optimizer-sgd, layers-[18, 8], dropout-0.6 0.00029820270579626124\n",
      "look_back-37, n_epochs-1000, batch_size-256, optimizer-sgd, layers-[15], dropout-0.2 0.0002841336456013828\n",
      "Period: 1\n",
      "look_back-22, n_epochs-1000, batch_size-512, optimizer-rmsprop, layers-[16, 11], dropout-0.4 0.00013606231062316675\n",
      "look_back-20, n_epochs-1000, batch_size-1024, optimizer-adam, layers-[18, 17], dropout-0.067 0.00016783616813716875\n",
      "Period: 2\n",
      "look_back-33, n_epochs-1000, batch_size-1024, optimizer-sgd, layers-[20], dropout-0.4 6.10439058222094e-05\n",
      "look_back-25, n_epochs-1000, batch_size-512, optimizer-adam, layers-[15, 9], dropout-0.133 6.708365494045978e-05\n",
      "Period: 3\n",
      "look_back-33, n_epochs-1000, batch_size-512, optimizer-adam, layers-[15, 15], dropout-0.133 9.071980091028858e-05\n",
      "look_back-19, n_epochs-1000, batch_size-1024, optimizer-adam, layers-[17], dropout-0.267 6.478170273894934e-05\n",
      "Period: 4\n",
      "look_back-14, n_epochs-1000, batch_size-512, optimizer-adam, layers-[3, 1], dropout-0.133 4.840082210442089e-05\n",
      "look_back-7, n_epochs-1000, batch_size-512, optimizer-sgd, layers-[19], dropout-0.067 4.59907956692746e-05\n",
      "Period: 5\n",
      "look_back-9, n_epochs-1000, batch_size-512, optimizer-adam, layers-[7], dropout-0.0 4.356618783609018e-05\n",
      "look_back-26, n_epochs-1000, batch_size-512, optimizer-adam, layers-[2], dropout-0.467 3.3210286668805504e-05\n",
      "Period: 6\n",
      "look_back-10, n_epochs-1000, batch_size-1024, optimizer-sgd, layers-[19, 6], dropout-0.4 3.2526318283479007e-05\n",
      "look_back-6, n_epochs-1000, batch_size-256, optimizer-rmsprop, layers-[17, 5], dropout-0.467 3.373215957748183e-05\n",
      "Period: 7\n",
      "look_back-7, n_epochs-1000, batch_size-512, optimizer-rmsprop, layers-[3], dropout-0.333 7.678000003576641e-05\n",
      "look_back-3, n_epochs-1000, batch_size-256, optimizer-rmsprop, layers-[14], dropout-0.133 7.145859811500747e-05\n",
      "ARMA\n",
      "Period: 0, p: 5, q: 0, mse: 0.0003356952649053386\n",
      "Period: 1, p: 3, q: 0, mse: 7.571645811799934e-05\n",
      "Period: 2, p: 5, q: 0, mse: 0.00026505701908548316\n",
      "Period: 3, p: 2, q: 0, mse: 5.819062279753313e-05\n",
      "Period: 4, p: 3, q: 0, mse: 5.636076981343242e-05\n",
      "Period: 5, p: 5, q: 0, mse: 0.0001541669477415858\n",
      "Period: 6, p: 1, q: 0, mse: 0.00014793116403681426\n",
      "Period: 7, p: 3, q: 0, mse: 2.7225139155077758e-05\n"
     ]
    }
   ],
   "source": [
    "number_of_random_search = 2\n",
    "print('LSTM')\n",
    "LSTM_names, LSTM_results = train_recurrent_model('LSTM',number_of_study_periods,study_periods,number_of_random_search, train_ratio, valid_ratio)\n",
    "print('GRU')\n",
    "GRU_names, GRU_results = train_recurrent_model('GRU',number_of_study_periods,study_periods,number_of_random_search, train_ratio, valid_ratio)\n",
    "\n",
    "print('ARMA')\n",
    "mse_ARMA, ARMA_parameters = train_ARMA(number_of_study_periods, study_periods, train_ratio, valid_ratio)"
   ]
  },
  {
   "cell_type": "code",
   "execution_count": 5,
   "metadata": {},
   "outputs": [
    {
     "name": "stdout",
     "output_type": "stream",
     "text": [
      "[[3.35695265e-04 9.24199611e-05 8.06581435e-05]\n",
      " [7.57164581e-05 6.94843806e-05 6.15156172e-05]\n",
      " [2.65057019e-04 2.54267220e-04 2.62638236e-04]\n",
      " [5.81906228e-05 5.68085219e-05 5.74625485e-05]\n",
      " [5.63607698e-05 3.30752520e-05 3.04541526e-05]\n",
      " [1.54166948e-04 6.01963403e-05 6.12804575e-05]\n",
      " [1.47931164e-04 1.33760890e-04 1.28111382e-04]\n",
      " [2.72251392e-05 2.53026922e-05 2.54890384e-05]]\n"
     ]
    }
   ],
   "source": [
    "print(np.concatenate((np.reshape(mse_ARMA, [number_of_study_periods,1]),\\\n",
    "                      np.reshape(LSTM_results[:,2], [number_of_study_periods,1]),\\\n",
    "                      np.reshape(GRU_results[:,2], [number_of_study_periods,1])), axis=1))"
   ]
  },
  {
   "cell_type": "code",
   "execution_count": 6,
   "metadata": {},
   "outputs": [
    {
     "data": {
      "image/png": "[encoded data removed]",
      "text/plain": [
       "<Figure size 864x576 with 2 Axes>"
      ]
     },
     "metadata": {
      "needs_background": "light"
     },
     "output_type": "display_data"
    }
   ],
   "source": [
    "import statsmodels.api as sm\n",
    "i = 7\n",
    "fig = plt.figure(figsize=(12,8))\n",
    "ax1 = fig.add_subplot(211)\n",
    "fig = sm.graphics.tsa.plot_acf(study_periods[0,i], lags=40, ax=ax1) # \n",
    "ax2 = fig.add_subplot(212)\n",
    "fig = sm.graphics.tsa.plot_pacf(study_periods[0,i], lags=40, ax=ax2)# , lags=40"
   ]
  },
  {
   "cell_type": "code",
   "execution_count": 7,
   "metadata": {
    "scrolled": false
   },
   "outputs": [
    {
     "name": "stdout",
     "output_type": "stream",
     "text": [
      ">predicted=0.000, expected=0.003\n",
      ">predicted=-0.000, expected=-0.001\n",
      ">predicted=-0.000, expected=0.005\n",
      ">predicted=0.000, expected=0.003\n",
      ">predicted=-0.000, expected=0.001\n",
      ">predicted=-0.000, expected=0.000\n",
      ">predicted=-0.000, expected=0.002\n",
      "Test RMSE: 0.003\n"
     ]
    }
   ],
   "source": [
    "from pandas import Series\n",
    "from matplotlib import pyplot\n",
    "from statsmodels.tsa.arima_model import ARIMA\n",
    "from sklearn.metrics import mean_squared_error\n",
    "from math import sqrt\n",
    " \n",
    "def predict(coef, history):\n",
    "\tyhat = 0.0\n",
    "\tfor i in range(1, len(coef)+1):\n",
    "\t\tyhat += coef[i-1] * history[-i]\n",
    "\treturn yhat\n",
    " \n",
    "\n",
    "X = Returns\n",
    "size = len(X) - 7\n",
    "train, test = X[0:size], X[size:]\n",
    "history = [x for x in train]\n",
    "predictions = list()\n",
    "for t in range(len(test)):\n",
    "\tmodel = ARIMA(history, order=(1,0,1))\n",
    "\tmodel_fit = model.fit(disp=False)\n",
    "\tar_coef, ma_coef = model_fit.arparams, model_fit.maparams\n",
    "\tresid = model_fit.resid\n",
    "\tyhat = predict(ar_coef, history) + predict(ma_coef, resid)\n",
    "\tpredictions.append(yhat)\n",
    "\tobs = test[t]\n",
    "\thistory.append(obs)\n",
    "\tprint('>predicted=%.3f, expected=%.3f' % (yhat, obs))\n",
    "rmse = sqrt(mean_squared_error(test, predictions))\n",
    "print('Test RMSE: %.3f' % rmse)"
   ]
  }
 ],
 "metadata": {
  "kernelspec": {
   "display_name": "Python 3",
   "language": "python",
   "name": "python3"
  },
  "language_info": {
   "codemirror_mode": {
    "name": "ipython",
    "version": 3
   },
   "file_extension": ".py",
   "mimetype": "text/x-python",
   "name": "python",
   "nbconvert_exporter": "python",
   "pygments_lexer": "ipython3",
   "version": "3.7.0"
  }
 },
 "nbformat": 4,
 "nbformat_minor": 2
}
