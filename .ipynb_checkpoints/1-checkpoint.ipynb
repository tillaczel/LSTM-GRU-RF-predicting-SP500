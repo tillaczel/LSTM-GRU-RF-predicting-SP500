{
 "cells": [
  {
   "cell_type": "code",
   "execution_count": 1,
   "metadata": {},
   "outputs": [],
   "source": [
    "# Import libraries\n",
    "import pandas as pd\n",
    "import numpy as np\n",
    "import matplotlib.pyplot as plt\n",
    "import time\n",
    "\n",
    "from libary import *\n",
    "from recurrent import *\n",
    "from ARMA import *"
   ]
  },
  {
   "cell_type": "code",
   "execution_count": 2,
   "metadata": {},
   "outputs": [],
   "source": [
    "train_ratio = 0.5\n",
    "valid_ratio = 0.25\n",
    "\n",
    "# Select frequency\n",
    "frequencies = ['min','5min','15min','60min','D']\n",
    "frequencies_number_of_samples = np.multiply([390,78,26,7,1],252)"
   ]
  },
  {
   "cell_type": "code",
   "execution_count": 3,
   "metadata": {
    "scrolled": false
   },
   "outputs": [
    {
     "name": "stdout",
     "output_type": "stream",
     "text": [
      "Frequency: D\n",
      "GRU\n",
      "Period: 0\n",
      "|   iter    |  target   | batch_... |  dropout  | first_... | layer_... | look_back | n_layers  | optimizer |\n",
      "-------------------------------------------------------------------------------------------------------------\n",
      "| \u001b[0m 1       \u001b[0m | \u001b[0m-0.000326\u001b[0m | \u001b[0m 6.512   \u001b[0m | \u001b[0m 0.04052 \u001b[0m | \u001b[0m 38.39   \u001b[0m | \u001b[0m 0.882   \u001b[0m | \u001b[0m 38.24   \u001b[0m | \u001b[0m 2.263   \u001b[0m | \u001b[0m 1.651   \u001b[0m |\n",
      "| \u001b[0m 2       \u001b[0m | \u001b[0m-0.000330\u001b[0m | \u001b[0m 6.937   \u001b[0m | \u001b[0m 0.2409  \u001b[0m | \u001b[0m 2.191   \u001b[0m | \u001b[0m 0.8152  \u001b[0m | \u001b[0m 28.04   \u001b[0m | \u001b[0m 2.226   \u001b[0m | \u001b[0m 0.6594  \u001b[0m |\n",
      "=============================================================================================================\n",
      "Period time: 1.08 minutes\n",
      "Period: 1\n",
      "|   iter    |  target   | batch_... |  dropout  | first_... | layer_... | look_back | n_layers  | optimizer |\n",
      "-------------------------------------------------------------------------------------------------------------\n",
      "| \u001b[0m 1       \u001b[0m | \u001b[0m-0.000129\u001b[0m | \u001b[0m 5.559   \u001b[0m | \u001b[0m 0.2283  \u001b[0m | \u001b[0m 4.048   \u001b[0m | \u001b[0m 0.636   \u001b[0m | \u001b[0m 9.824   \u001b[0m | \u001b[0m 3.377   \u001b[0m | \u001b[0m 0.5254  \u001b[0m |\n",
      "| \u001b[95m 2       \u001b[0m | \u001b[95m-0.000128\u001b[0m | \u001b[95m 9.015   \u001b[0m | \u001b[95m 0.2145  \u001b[0m | \u001b[95m 26.5    \u001b[0m | \u001b[95m 0.7836  \u001b[0m | \u001b[95m 36.21   \u001b[0m | \u001b[95m 2.291   \u001b[0m | \u001b[95m 1.537   \u001b[0m |\n",
      "=============================================================================================================\n",
      "Period time: 0.97 minutes\n",
      "Period: 2\n",
      "|   iter    |  target   | batch_... |  dropout  | first_... | layer_... | look_back | n_layers  | optimizer |\n",
      "-------------------------------------------------------------------------------------------------------------\n",
      "| \u001b[0m 1       \u001b[0m | \u001b[0m-5.982e-0\u001b[0m | \u001b[0m 8.903   \u001b[0m | \u001b[0m 0.4824  \u001b[0m | \u001b[0m 35.27   \u001b[0m | \u001b[0m 0.4069  \u001b[0m | \u001b[0m 32.37   \u001b[0m | \u001b[0m 2.443   \u001b[0m | \u001b[0m 1.973   \u001b[0m |\n",
      "| \u001b[0m 2       \u001b[0m | \u001b[0m-6.296e-0\u001b[0m | \u001b[0m 8.789   \u001b[0m | \u001b[0m 0.2525  \u001b[0m | \u001b[0m 3.701   \u001b[0m | \u001b[0m 0.999   \u001b[0m | \u001b[0m 3.969   \u001b[0m | \u001b[0m 2.748   \u001b[0m | \u001b[0m 0.7815  \u001b[0m |\n",
      "=============================================================================================================\n",
      "Period time: 0.84 minutes\n",
      "Period: 3\n",
      "|   iter    |  target   | batch_... |  dropout  | first_... | layer_... | look_back | n_layers  | optimizer |\n",
      "-------------------------------------------------------------------------------------------------------------\n",
      "| \u001b[0m 1       \u001b[0m | \u001b[0m-6.342e-0\u001b[0m | \u001b[0m 6.339   \u001b[0m | \u001b[0m 0.1146  \u001b[0m | \u001b[0m 39.16   \u001b[0m | \u001b[0m 0.5557  \u001b[0m | \u001b[0m 1.936   \u001b[0m | \u001b[0m 2.22    \u001b[0m | \u001b[0m 1.979   \u001b[0m |\n",
      "| \u001b[0m 2       \u001b[0m | \u001b[0m-6.369e-0\u001b[0m | \u001b[0m 7.079   \u001b[0m | \u001b[0m 0.09934 \u001b[0m | \u001b[0m 2.636   \u001b[0m | \u001b[0m 0.6322  \u001b[0m | \u001b[0m 23.05   \u001b[0m | \u001b[0m 3.845   \u001b[0m | \u001b[0m 1.153   \u001b[0m |\n",
      "=============================================================================================================\n",
      "Period time: 1.02 minutes\n",
      "Period: 4\n",
      "|   iter    |  target   | batch_... |  dropout  | first_... | layer_... | look_back | n_layers  | optimizer |\n",
      "-------------------------------------------------------------------------------------------------------------\n",
      "| \u001b[0m 1       \u001b[0m | \u001b[0m-4.529e-0\u001b[0m | \u001b[0m 8.304   \u001b[0m | \u001b[0m 0.1324  \u001b[0m | \u001b[0m 28.64   \u001b[0m | \u001b[0m 0.8041  \u001b[0m | \u001b[0m 10.34   \u001b[0m | \u001b[0m 3.052   \u001b[0m | \u001b[0m 0.9022  \u001b[0m |\n",
      "| \u001b[95m 2       \u001b[0m | \u001b[95m-4.436e-0\u001b[0m | \u001b[95m 9.977   \u001b[0m | \u001b[95m 0.3252  \u001b[0m | \u001b[95m 7.771   \u001b[0m | \u001b[95m 0.8475  \u001b[0m | \u001b[95m 13.46   \u001b[0m | \u001b[95m 3.187   \u001b[0m | \u001b[95m 0.6414  \u001b[0m |\n",
      "=============================================================================================================\n",
      "Period time: 1.91 minutes\n",
      "Period: 5\n",
      "|   iter    |  target   | batch_... |  dropout  | first_... | layer_... | look_back | n_layers  | optimizer |\n",
      "-------------------------------------------------------------------------------------------------------------\n",
      "| \u001b[0m 1       \u001b[0m | \u001b[0m-3.611e-0\u001b[0m | \u001b[0m 5.346   \u001b[0m | \u001b[0m 0.4133  \u001b[0m | \u001b[0m 37.75   \u001b[0m | \u001b[0m 0.3343  \u001b[0m | \u001b[0m 12.95   \u001b[0m | \u001b[0m 2.587   \u001b[0m | \u001b[0m 0.6734  \u001b[0m |\n",
      "| \u001b[0m 2       \u001b[0m | \u001b[0m-3.636e-0\u001b[0m | \u001b[0m 8.708   \u001b[0m | \u001b[0m 0.2326  \u001b[0m | \u001b[0m 18.2    \u001b[0m | \u001b[0m 0.3047  \u001b[0m | \u001b[0m 8.735   \u001b[0m | \u001b[0m 1.61    \u001b[0m | \u001b[0m 0.9806  \u001b[0m |\n",
      "=============================================================================================================\n",
      "Period time: 1.21 minutes\n",
      "Period: 6\n",
      "|   iter    |  target   | batch_... |  dropout  | first_... | layer_... | look_back | n_layers  | optimizer |\n",
      "-------------------------------------------------------------------------------------------------------------\n",
      "| \u001b[0m 1       \u001b[0m | \u001b[0m-3.604e-0\u001b[0m | \u001b[0m 9.056   \u001b[0m | \u001b[0m 0.398   \u001b[0m | \u001b[0m 21.34   \u001b[0m | \u001b[0m 0.7021  \u001b[0m | \u001b[0m 20.9    \u001b[0m | \u001b[0m 2.331   \u001b[0m | \u001b[0m 1.401   \u001b[0m |\n",
      "| \u001b[0m 2       \u001b[0m | \u001b[0m-3.639e-0\u001b[0m | \u001b[0m 6.499   \u001b[0m | \u001b[0m 0.239   \u001b[0m | \u001b[0m 22.3    \u001b[0m | \u001b[0m 0.5048  \u001b[0m | \u001b[0m 37.33   \u001b[0m | \u001b[0m 1.511   \u001b[0m | \u001b[0m 0.2084  \u001b[0m |\n",
      "=============================================================================================================\n",
      "Period time: 1.29 minutes\n",
      "Period: 7\n",
      "|   iter    |  target   | batch_... |  dropout  | first_... | layer_... | look_back | n_layers  | optimizer |\n",
      "-------------------------------------------------------------------------------------------------------------\n",
      "| \u001b[0m 1       \u001b[0m | \u001b[0m-6.801e-0\u001b[0m | \u001b[0m 9.899   \u001b[0m | \u001b[0m 0.3181  \u001b[0m | \u001b[0m 36.83   \u001b[0m | \u001b[0m 0.4057  \u001b[0m | \u001b[0m 28.19   \u001b[0m | \u001b[0m 2.943   \u001b[0m | \u001b[0m 0.1461  \u001b[0m |\n",
      "| \u001b[0m 2       \u001b[0m | \u001b[0m-6.804e-0\u001b[0m | \u001b[0m 4.025   \u001b[0m | \u001b[0m 0.06598 \u001b[0m | \u001b[0m 32.71   \u001b[0m | \u001b[0m 0.6887  \u001b[0m | \u001b[0m 9.043   \u001b[0m | \u001b[0m 1.833   \u001b[0m | \u001b[0m 1.022   \u001b[0m |\n",
      "=============================================================================================================\n",
      "Period time: 1.33 minutes\n",
      "GRU training time: 9.76 minutes\n"
     ]
    },
    {
     "ename": "NameError",
     "evalue": "name 'ARMA_mse' is not defined",
     "output_type": "error",
     "traceback": [
      "\u001b[1;31m---------------------------------------------------------------------------\u001b[0m",
      "\u001b[1;31mNameError\u001b[0m                                 Traceback (most recent call last)",
      "\u001b[1;32m<ipython-input-3-2b16ddf37c6f>\u001b[0m in \u001b[0;36m<module>\u001b[1;34m\u001b[0m\n\u001b[0;32m     22\u001b[0m \u001b[1;33m\u001b[0m\u001b[0m\n\u001b[0;32m     23\u001b[0m \u001b[1;33m\u001b[0m\u001b[0m\n\u001b[1;32m---> 24\u001b[1;33m     visualize_results((np.concatenate((np.reshape(ARMA_mse[:,-1], [number_of_study_periods,1]),\\\n\u001b[0m\u001b[0;32m     25\u001b[0m                           \u001b[0mnp\u001b[0m\u001b[1;33m.\u001b[0m\u001b[0mreshape\u001b[0m\u001b[1;33m(\u001b[0m\u001b[0mLSTM_mse\u001b[0m\u001b[1;33m[\u001b[0m\u001b[1;33m:\u001b[0m\u001b[1;33m,\u001b[0m\u001b[1;33m-\u001b[0m\u001b[1;36m1\u001b[0m\u001b[1;33m]\u001b[0m\u001b[1;33m,\u001b[0m \u001b[1;33m[\u001b[0m\u001b[0mnumber_of_study_periods\u001b[0m\u001b[1;33m,\u001b[0m\u001b[1;36m1\u001b[0m\u001b[1;33m]\u001b[0m\u001b[1;33m)\u001b[0m\u001b[1;33m,\u001b[0m\u001b[0;31m\\\u001b[0m\u001b[1;33m\u001b[0m\u001b[0m\n\u001b[0;32m     26\u001b[0m                           \u001b[0mnp\u001b[0m\u001b[1;33m.\u001b[0m\u001b[0mreshape\u001b[0m\u001b[1;33m(\u001b[0m\u001b[0mGRU_mse\u001b[0m\u001b[1;33m[\u001b[0m\u001b[1;33m:\u001b[0m\u001b[1;33m,\u001b[0m\u001b[1;33m-\u001b[0m\u001b[1;36m1\u001b[0m\u001b[1;33m]\u001b[0m\u001b[1;33m,\u001b[0m \u001b[1;33m[\u001b[0m\u001b[0mnumber_of_study_periods\u001b[0m\u001b[1;33m,\u001b[0m\u001b[1;36m1\u001b[0m\u001b[1;33m]\u001b[0m\u001b[1;33m)\u001b[0m\u001b[1;33m,\u001b[0m\u001b[0;31m\\\u001b[0m\u001b[1;33m\u001b[0m\u001b[0m\n",
      "\u001b[1;31mNameError\u001b[0m: name 'ARMA_mse' is not defined"
     ]
    }
   ],
   "source": [
    "for frequency_index in range(4, -1, -1):\n",
    "    print(f'Frequency: {frequencies[frequency_index]}')\n",
    "    number_of_study_periods, study_periods, Data, dates = creating_study_periods(frequencies,\\\n",
    "                                                                                 frequencies_number_of_samples,\\\n",
    "                                                                                 frequency_index)\n",
    "    # visualize_data(Data, Returns)\n",
    "    \n",
    "#     print('ARMA')\n",
    "#     ARMA_parameters, ARMA_mse, ARMA_predictions = train_ARMA(number_of_study_periods, study_periods,\\\n",
    "#                                                              train_ratio, valid_ratio,\\\n",
    "#                                                              frequency_index, frequencies, frequencies_number_of_samples)\n",
    "    \n",
    "#     print('LSTM')\n",
    "#     LSTM_names, LSTM_mse, LSTM_predictions = train_recurrent_model('LSTM', number_of_study_periods ,study_periods,\\\n",
    "#                                                              train_ratio, valid_ratio,\\\n",
    "#                                                              frequency_index, frequencies, frequencies_number_of_samples)\n",
    "    print('GRU')\n",
    "    GRU_names, GRU_mse, GRU_predictions = train_recurrent_model('GRU', number_of_study_periods, study_periods,\\\n",
    "                                                             train_ratio, valid_ratio,\\\n",
    "                                                             frequency_index, frequencies, frequencies_number_of_samples)\n",
    "    \n",
    "    \n",
    "    \n",
    "    visualize_results((np.concatenate((np.reshape(ARMA_mse[:,-1], [number_of_study_periods,1]),\\\n",
    "                          np.reshape(LSTM_mse[:,-1], [number_of_study_periods,1]),\\\n",
    "                          np.reshape(GRU_mse[:,-1], [number_of_study_periods,1]),\\\n",
    "                          np.reshape(np.mean(np.square(study_periods[0,:,-ARMA_predictions.shape[1]:]),axis=1),\\\n",
    "                                                         [number_of_study_periods,1])), axis=1)))"
   ]
  },
  {
   "cell_type": "code",
   "execution_count": 4,
   "metadata": {},
   "outputs": [
    {
     "name": "stdout",
     "output_type": "stream",
     "text": [
      "Frequency: D\n",
      "ARMA\n",
      "LSTM\n",
      "GRU\n",
      "Frequency: 60min\n",
      "ARMA\n"
     ]
    },
    {
     "ename": "ValueError",
     "evalue": "could not broadcast input array from shape (8,3528) into shape (8,882)",
     "output_type": "error",
     "traceback": [
      "\u001b[1;31m---------------------------------------------------------------------------\u001b[0m",
      "\u001b[1;31mValueError\u001b[0m                                Traceback (most recent call last)",
      "\u001b[1;32m<ipython-input-4-59d4051a7af6>\u001b[0m in \u001b[0;36m<module>\u001b[1;34m\u001b[0m\n\u001b[0;32m     19\u001b[0m         \u001b[0mprint\u001b[0m\u001b[1;33m(\u001b[0m\u001b[0mmodel_names\u001b[0m\u001b[1;33m[\u001b[0m\u001b[0mmodel_index\u001b[0m\u001b[1;33m]\u001b[0m\u001b[1;33m)\u001b[0m\u001b[1;33m\u001b[0m\u001b[0m\n\u001b[0;32m     20\u001b[0m         predictions[model_index] = pd.read_csv('results/'+str(model_names[model_index])+'_predictions_frequency_'\\\n\u001b[1;32m---> 21\u001b[1;33m                                          +str(frequencies[frequency_index])+'.csv', header=None).dropna(axis='columns').values\n\u001b[0m\u001b[0;32m     22\u001b[0m \u001b[0mprint\u001b[0m\u001b[1;33m(\u001b[0m\u001b[0mpredictions\u001b[0m\u001b[1;33m)\u001b[0m\u001b[1;33m\u001b[0m\u001b[0m\n",
      "\u001b[1;31mValueError\u001b[0m: could not broadcast input array from shape (8,3528) into shape (8,882)"
     ]
    }
   ],
   "source": [
    "model_names = ['ARMA', 'LSTM', 'GRU']\n",
    "\n",
    "for frequency_index in range(4, -1, -1):\n",
    "    print(f'Frequency: {frequencies[frequency_index]}')\n",
    "    number_of_study_periods, study_periods, Data, dates = creating_study_periods(frequencies,\\\n",
    "                                                                                 frequencies_number_of_samples,\\\n",
    "                                                                                 frequency_index)\n",
    "    study_periods_direction = study_periods[0]\n",
    "    study_periods_direction[0<study_periods_direction] = 1\n",
    "    study_periods_direction[0==study_periods_direction] = 0\n",
    "    study_periods_direction[0>study_periods_direction] = -1\n",
    "    \n",
    "    train_size = np.round(np.size(study_periods[0], 1) * train_ratio).astype(int)\n",
    "    valid_size = np.round(np.size(study_periods[0], 1) * valid_ratio).astype(int)\n",
    "    test_size = (np.size(study_periods[0], 1) - train_size - valid_size).astype(int)\n",
    "    \n",
    "    predictions = np.zeros((3,number_of_study_periods,test_size))\n",
    "    for model_index in range(3):\n",
    "        print(model_names[model_index])\n",
    "        predictions[model_index] = pd.read_csv('results/'+str(model_names[model_index])+'_predictions_frequency_'\\\n",
    "                                         +str(frequencies[frequency_index])+'.csv', header=None).dropna(axis='columns').values\n",
    "print(predictions)"
   ]
  },
  {
   "cell_type": "code",
   "execution_count": null,
   "metadata": {},
   "outputs": [],
   "source": [
    "import statsmodels.api as sm\n",
    "i = 7\n",
    "fig = plt.figure(figsize=(12,8))\n",
    "ax1 = fig.add_subplot(211)\n",
    "fig = sm.graphics.tsa.plot_acf(study_periods[0,i], lags=40, ax=ax1) # \n",
    "ax2 = fig.add_subplot(212)\n",
    "fig = sm.graphics.tsa.plot_pacf(study_periods[0,i], lags=40, ax=ax2)# , lags=40"
   ]
  }
 ],
 "metadata": {
  "kernelspec": {
   "display_name": "Python 3",
   "language": "python",
   "name": "python3"
  },
  "language_info": {
   "codemirror_mode": {
    "name": "ipython",
    "version": 3
   },
   "file_extension": ".py",
   "mimetype": "text/x-python",
   "name": "python",
   "nbconvert_exporter": "python",
   "pygments_lexer": "ipython3",
   "version": "3.7.0"
  }
 },
 "nbformat": 4,
 "nbformat_minor": 2
}
