{
 "cells": [
  {
   "cell_type": "code",
   "execution_count": null,
   "metadata": {},
   "outputs": [],
   "source": [
    "# Import libraries\n",
    "import pandas as pd\n",
    "import numpy as np\n",
    "import matplotlib.pyplot as plt\n",
    "import time\n",
    "\n",
    "from libary import *\n",
    "from recurrent import *\n",
    "from ARMA import *"
   ]
  },
  {
   "cell_type": "code",
   "execution_count": null,
   "metadata": {},
   "outputs": [],
   "source": [
    "# Used data\n",
    "num_of_features = 2"
   ]
  },
  {
   "cell_type": "code",
   "execution_count": null,
   "metadata": {
    "scrolled": false
   },
   "outputs": [],
   "source": [
    "# Import data\n",
    "Data = pd.read_csv('Data_1min.csv', dtype=str)\n",
    "\n",
    "# Select frequency\n",
    "frequencies = ['min','5min','15min','60min','D']\n",
    "frequencies_number_of_samples = np.multiply([390,78,26,6,1],252)\n",
    "frequency_index = 4\n",
    "Data = resample_data(Data,frequencies[frequency_index])\n",
    "\n",
    "# Create datasets\n",
    "dates = Data['Date']\n",
    "Data.drop('Date', inplace=True, axis=1)\n",
    "\n",
    "Data = Data.astype('float64')\n",
    "prices = Data\n",
    "\n",
    "# Log return\n",
    "Returns = log_return(Data).to_numpy()\n",
    "\n",
    "# Visualize data\n",
    "#visualise_data(Data, Returns)\n",
    "\n",
    "# Create study peridos\n",
    "number_of_study_periods = np.floor(Returns.shape[0]/frequencies_number_of_samples[frequency_index]).astype(int)-1\n",
    "study_periods = np.zeros((2,number_of_study_periods, frequencies_number_of_samples[frequency_index]*2))\n",
    "for i in range(number_of_study_periods):\n",
    "    study_periods[0,i] = Returns[i*frequencies_number_of_samples[frequency_index]:\\\n",
    "                                    (i+2)*frequencies_number_of_samples[frequency_index]].flatten()\n",
    "    study_periods[1,i] = dates.iloc[i*frequencies_number_of_samples[frequency_index]:\\\n",
    "                                    (i+2)*frequencies_number_of_samples[frequency_index]].to_numpy().flatten()"
   ]
  },
  {
   "cell_type": "code",
   "execution_count": null,
   "metadata": {
    "scrolled": false
   },
   "outputs": [],
   "source": [
    "number_of_random_search = 1\n",
    "# print('LSTM')\n",
    "# LSTM_names, LSTM_results = train_recurrent_model('LSTM',number_of_study_periods,study_periods,number_of_random_search)\n",
    "# print('GRU')\n",
    "# GRU_names, GRU_results = train_recurrent_model('GRU',number_of_study_periods,study_periods,number_of_random_search)\n",
    "\n",
    "print('ARMA')\n",
    "ARMA(number_of_study_periods,study_periods)"
   ]
  },
  {
   "cell_type": "code",
   "execution_count": null,
   "metadata": {},
   "outputs": [],
   "source": [
    "print(LSTM_names, LSTM_results)"
   ]
  },
  {
   "cell_type": "code",
   "execution_count": null,
   "metadata": {},
   "outputs": [],
   "source": []
  }
 ],
 "metadata": {
  "kernelspec": {
   "display_name": "Python 3",
   "language": "python",
   "name": "python3"
  },
  "language_info": {
   "codemirror_mode": {
    "name": "ipython",
    "version": 3
   },
   "file_extension": ".py",
   "mimetype": "text/x-python",
   "name": "python",
   "nbconvert_exporter": "python",
   "pygments_lexer": "ipython3",
   "version": "3.7.0"
  }
 },
 "nbformat": 4,
 "nbformat_minor": 2
}
