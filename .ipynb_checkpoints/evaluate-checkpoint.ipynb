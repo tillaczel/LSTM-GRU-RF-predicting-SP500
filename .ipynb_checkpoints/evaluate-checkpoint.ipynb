{
 "cells": [
  {
   "cell_type": "code",
   "execution_count": 1,
   "metadata": {},
   "outputs": [
    {
     "ename": "SyntaxError",
     "evalue": "invalid syntax (evaluate_models.py, line 113)",
     "output_type": "error",
     "traceback": [
      "Traceback \u001b[1;36m(most recent call last)\u001b[0m:\n",
      "  File \u001b[0;32m\"c:\\program files\\python37\\lib\\site-packages\\IPython\\core\\interactiveshell.py\"\u001b[0m, line \u001b[0;32m3296\u001b[0m, in \u001b[0;35mrun_code\u001b[0m\n    exec(code_obj, self.user_global_ns, self.user_ns)\n",
      "\u001b[1;36m  File \u001b[1;32m\"<ipython-input-1-a15625c18be1>\"\u001b[1;36m, line \u001b[1;32m7\u001b[1;36m, in \u001b[1;35m<module>\u001b[1;36m\u001b[0m\n\u001b[1;33m    from evaluate_models import *\u001b[0m\n",
      "\u001b[1;36m  File \u001b[1;32m\"C:\\Users\\Till\\Thesis\\git\\evaluate_models.py\"\u001b[1;36m, line \u001b[1;32m113\u001b[0m\n\u001b[1;33m    print(shapre_ratio[frequency_index])\u001b[0m\n\u001b[1;37m        ^\u001b[0m\n\u001b[1;31mSyntaxError\u001b[0m\u001b[1;31m:\u001b[0m invalid syntax\n"
     ]
    }
   ],
   "source": [
    "# Import libraries\n",
    "import numpy as np\n",
    "import matplotlib.pyplot as plt\n",
    "import time\n",
    "\n",
    "from train_models import *\n",
    "from evaluate_models import *\n",
    "from manipulate_data import *"
   ]
  },
  {
   "cell_type": "code",
   "execution_count": null,
   "metadata": {},
   "outputs": [],
   "source": [
    "model_names = ['ARMA', 'LSTM', 'GRU']\n",
    "\n",
    "frequencies = ['D', '60min', '15min', '5min', 'min']\n",
    "frequencies_number_of_samples = np.multiply([1, 7, 26, 78, 390], 252)\n",
    "\n",
    "predictions, returns, dates, number_of_study_periods = append_periods(model_names, frequencies, frequencies_number_of_samples)"
   ]
  },
  {
   "cell_type": "code",
   "execution_count": null,
   "metadata": {
    "scrolled": true
   },
   "outputs": [],
   "source": [
    "# directional_accuracy = calculate_directional_accuracy(model_names, frequencies, frequencies_number_of_samples)\n",
    "# vis_directional_accuracy(directional_accuracy, frequencies, model_names)"
   ]
  },
  {
   "cell_type": "code",
   "execution_count": null,
   "metadata": {
    "scrolled": true
   },
   "outputs": [],
   "source": [
    "transaction_cost = 0\n",
    "trading_strategy = calculate_trading_strategy(predictions, transaction_cost)\n",
    "cum_logr = create_cum_logr(trading_strategy, returns, transaction_cost)\n",
    "vis_cum_logr(cum_logr, returns, trading_strategy, frequencies, dates, number_of_study_periods)\n",
    "shapre_ratios = create_shapre_ratio(cum_logr, returns)"
   ]
  },
  {
   "cell_type": "code",
   "execution_count": null,
   "metadata": {
    "scrolled": true
   },
   "outputs": [],
   "source": [
    "transaction_cost = 0.0001\n",
    "trading_strategy = calculate_trading_strategy(predictions, transaction_cost)\n",
    "cum_logr = create_cum_logr(trading_strategy, returns, transaction_cost)\n",
    "vis_cum_logr(cum_logr, returns, trading_strategy, frequencies, dates, number_of_study_periods)\n",
    "shapre_ratios = create_shapre_ratio(cum_logr, returns)"
   ]
  },
  {
   "cell_type": "code",
   "execution_count": null,
   "metadata": {
    "scrolled": true
   },
   "outputs": [],
   "source": [
    "transaction_cost = 0.0003\n",
    "trading_strategy = calculate_trading_strategy(predictions, transaction_cost)\n",
    "cum_logr = create_cum_logr(trading_strategy, returns, transaction_cost)\n",
    "vis_cum_logr(cum_logr, returns, trading_strategy, frequencies, dates, number_of_study_periods)\n",
    "shapre_ratios = create_shapre_ratio(cum_logr, returns)"
   ]
  },
  {
   "cell_type": "code",
   "execution_count": null,
   "metadata": {
    "scrolled": true
   },
   "outputs": [],
   "source": [
    "transaction_cost = 0.001\n",
    "trading_strategy = calculate_trading_strategy(predictions, transaction_cost)\n",
    "cum_logr = create_cum_logr(trading_strategy, returns, transaction_cost)\n",
    "vis_cum_logr(cum_logr, returns, trading_strategy, frequencies, dates, number_of_study_periods)\n",
    "shapre_ratios = create_shapre_ratio(cum_logr, returns)"
   ]
  },
  {
   "cell_type": "code",
   "execution_count": null,
   "metadata": {
    "scrolled": false
   },
   "outputs": [],
   "source": [
    "transaction_cost = 0.003\n",
    "trading_strategy = calculate_trading_strategy(predictions, transaction_cost)\n",
    "cum_logr = create_cum_logr(trading_strategy, returns, transaction_cost)\n",
    "vis_cum_logr(cum_logr, returns, trading_strategy, frequencies, dates, number_of_study_periods)\n",
    "shapre_ratios = create_shapre_ratio(cum_logr, returns)"
   ]
  },
  {
   "cell_type": "code",
   "execution_count": null,
   "metadata": {
    "scrolled": false
   },
   "outputs": [],
   "source": [
    "transaction_cost = 0.01\n",
    "trading_strategy = calculate_trading_strategy(predictions, transaction_cost)\n",
    "cum_logr = create_cum_logr(trading_strategy, returns, transaction_cost)\n",
    "vis_cum_logr(cum_logr, returns, trading_strategy, frequencies, dates, number_of_study_periods)\n",
    "shapre_ratios = create_shapre_ratio(cum_logr, returns)"
   ]
  },
  {
   "cell_type": "code",
   "execution_count": null,
   "metadata": {},
   "outputs": [],
   "source": []
  },
  {
   "cell_type": "code",
   "execution_count": null,
   "metadata": {},
   "outputs": [],
   "source": [
    "import statsmodels.api as sm\n",
    "i = 7\n",
    "fig = plt.figure(figsize=(12,8))\n",
    "ax1 = fig.add_subplot(211)\n",
    "fig = sm.graphics.tsa.plot_acf(study_periods[0,i], lags=40, ax=ax1) # \n",
    "ax2 = fig.add_subplot(212)\n",
    "fig = sm.graphics.tsa.plot_pacf(study_periods[0,i], lags=40, ax=ax2)# , lags=40"
   ]
  }
 ],
 "metadata": {
  "kernelspec": {
   "display_name": "Python 3",
   "language": "python",
   "name": "python3"
  },
  "language_info": {
   "codemirror_mode": {
    "name": "ipython",
    "version": 3
   },
   "file_extension": ".py",
   "mimetype": "text/x-python",
   "name": "python",
   "nbconvert_exporter": "python",
   "pygments_lexer": "ipython3",
   "version": "3.7.0"
  }
 },
 "nbformat": 4,
 "nbformat_minor": 2
}
